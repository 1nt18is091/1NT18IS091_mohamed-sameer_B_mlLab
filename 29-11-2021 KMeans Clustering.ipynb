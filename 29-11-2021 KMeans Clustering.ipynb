{
 "cells": [
  {
   "cell_type": "code",
   "execution_count": 11,
   "id": "4f29b5ed",
   "metadata": {},
   "outputs": [],
   "source": [
    "import numpy as np\n",
    "import matplotlib.pyplot as plt\n",
    "import math"
   ]
  },
  {
   "cell_type": "code",
   "execution_count": 4,
   "id": "466b09af",
   "metadata": {},
   "outputs": [
    {
     "data": {
      "text/plain": [
       "[[5.9, 3.2],\n",
       " [4.6, 2.9],\n",
       " [6.2, 2.8],\n",
       " [4.7, 3.2],\n",
       " [5.5, 4.2],\n",
       " [5.0, 3.0],\n",
       " [4.9, 3.1],\n",
       " [6.7, 3.1],\n",
       " [5.1, 3.8],\n",
       " [6.0, 3.0]]"
      ]
     },
     "execution_count": 4,
     "metadata": {},
     "output_type": "execute_result"
    }
   ],
   "source": [
    "X = [[5.9,3.2],[4.6,2.9],[6.2,2.8],[4.7,3.2],[5.5,4.2],[5.0,3.0],[4.9,3.1],[6.7,3.1],[5.1,3.8],[6.0,3.0]]\n",
    "X"
   ]
  },
  {
   "cell_type": "code",
   "execution_count": 6,
   "id": "fe2c7d0a",
   "metadata": {},
   "outputs": [
    {
     "data": {
      "image/png": "[encoded data removed]",
      "text/plain": [
       "<Figure size 432x288 with 1 Axes>"
      ]
     },
     "metadata": {
      "needs_background": "light"
     },
     "output_type": "display_data"
    }
   ],
   "source": [
    "x,y=zip(*X)\n",
    "plt.scatter(x,y);"
   ]
  },
  {
   "cell_type": "code",
   "execution_count": 8,
   "id": "d4603b79",
   "metadata": {},
   "outputs": [
    {
     "data": {
      "text/plain": [
       "[[6.2, 3.2], [6.6, 3.7], [6.5, 3.0]]"
      ]
     },
     "execution_count": 8,
     "metadata": {},
     "output_type": "execute_result"
    }
   ],
   "source": [
    "centriod=[[6.2,3.2],[6.6,3.7],[6.5,3.0]];\n",
    "centriod"
   ]
  },
  {
   "cell_type": "code",
   "execution_count": 33,
   "id": "66a2d551",
   "metadata": {},
   "outputs": [
    {
     "data": {
      "text/plain": [
       "[0.2999999999999998,\n",
       " 1.6278820596099712,\n",
       " 0.40000000000000036,\n",
       " 1.5,\n",
       " 1.2206555615733703,\n",
       " 1.216552506059644,\n",
       " 1.3038404810405295,\n",
       " 0.5099019513592785,\n",
       " 1.2529964086141672,\n",
       " 0.2828427124746193]"
      ]
     },
     "execution_count": 33,
     "metadata": {},
     "output_type": "execute_result"
    }
   ],
   "source": [
    "cls1=[];\n",
    "for i in range(len(X)):\n",
    "        cls1.append(math.sqrt(((X[i][0]-centriod[0][0])**2)+((X[i][1]-centriod[0][1])**2)));\n",
    "cls1"
   ]
  },
  {
   "cell_type": "code",
   "execution_count": 34,
   "id": "98e90d97",
   "metadata": {},
   "outputs": [
    {
     "data": {
      "text/plain": [
       "[0.8602325267042621,\n",
       " 2.154065922853802,\n",
       " 0.9848857801796106,\n",
       " 1.9646882704388495,\n",
       " 1.2083045973594568,\n",
       " 1.7464249196572978,\n",
       " 1.802775637731994,\n",
       " 0.6082762530298221,\n",
       " 1.5033296378372907,\n",
       " 0.9219544457292886]"
      ]
     },
     "execution_count": 34,
     "metadata": {},
     "output_type": "execute_result"
    }
   ],
   "source": [
    "cls2=[];\n",
    "for i in range(len(X)):\n",
    "        cls2.append(math.sqrt(((X[i][0]-centriod[1][0])**2)+((X[i][1]-centriod[1][1])**2)));\n",
    "cls2"
   ]
  },
  {
   "cell_type": "code",
   "execution_count": 35,
   "id": "d8d32bd8",
   "metadata": {},
   "outputs": [
    {
     "data": {
      "text/plain": [
       "[0.6324555320336757,\n",
       " 1.902629759044045,\n",
       " 0.3605551275463989,\n",
       " 1.8110770276274832,\n",
       " 1.562049935181331,\n",
       " 1.5,\n",
       " 1.6031219541881394,\n",
       " 0.22360679774997916,\n",
       " 1.61245154965971,\n",
       " 0.5]"
      ]
     },
     "execution_count": 35,
     "metadata": {},
     "output_type": "execute_result"
    }
   ],
   "source": [
    "cls3=[];\n",
    "for i in range(len(X)):\n",
    "        cls3.append(math.sqrt(((X[i][0]-centriod[2][0])**2)+((X[i][1]-centriod[2][1])**2)));\n",
    "cls3"
   ]
  },
  {
   "cell_type": "code",
   "execution_count": 42,
   "id": "3e1b1e8d",
   "metadata": {},
   "outputs": [
    {
     "data": {
      "text/plain": [
       "[1, 1, 3, 1, 2, 1, 1, 3, 1, 1]"
      ]
     },
     "execution_count": 42,
     "metadata": {},
     "output_type": "execute_result"
    }
   ],
   "source": [
    "cls=[];\n",
    "for i in range(len(X)):\n",
    "    if (cls1[i]<cls2[i]) and (cls1[i]<cls3[i]):\n",
    "        cls.append(1);\n",
    "    elif (cls2[i]<cls1[i]) and (cls2[i]<cls3[i]):\n",
    "        cls.append(2);\n",
    "    else:\n",
    "        cls.append(3);\n",
    "cls"
   ]
  },
  {
   "cell_type": "code",
   "execution_count": 69,
   "id": "e4047831",
   "metadata": {},
   "outputs": [
    {
     "data": {
      "text/plain": [
       "[[5.171428571428572, 3.1714285714285713], [5.5, 4.2], [6.45, 2.95]]"
      ]
     },
     "execution_count": 69,
     "metadata": {},
     "output_type": "execute_result"
    }
   ],
   "source": [
    "c1=0\n",
    "c2=0\n",
    "c3=0\n",
    "c1x=0\n",
    "c1y=0\n",
    "c2x=0\n",
    "c2y=0\n",
    "c3x=0\n",
    "c3y=0\n",
    "for i in range(len(cls)):\n",
    "    if(cls[i]==1):\n",
    "        c1x+=X[i][0]\n",
    "        c1y+=X[i][1]\n",
    "        c1=c1+1\n",
    "    elif(cls[i]==2):\n",
    "        c2x+=X[i][0]\n",
    "        c2y+=X[i][1]\n",
    "        c2+=1\n",
    "    else:\n",
    "        c3x+=X[i][0]\n",
    "        c3y+=X[i][1]\n",
    "        c3+=1\n",
    "cent=[[0,0],[0,0],[0,0]]\n",
    "\n",
    "    \n",
    "cent[0][0]=c1x/c1\n",
    "cent[0][1]=c1y/c1;\n",
    "    \n",
    "cent[1][0]=c2x/c2;\n",
    "cent[1][1]=c2y/c2;\n",
    "    \n",
    "cent[2][0]=c3x/c3;\n",
    "cent[2][1]=c3y/c3;\n",
    "\n",
    "cent\n",
    "        "
   ]
  },
  {
   "cell_type": "code",
   "execution_count": 75,
   "id": "8a10fb6b",
   "metadata": {},
   "outputs": [
    {
     "name": "stdout",
     "output_type": "stream",
     "text": [
      "[[4.800000000000001, 3.05], [5.3, 4.0], [6.2, 3.025]]\n",
      "[[4.800000000000001, 3.05], [5.3, 4.0], [6.2, 3.025]]\n"
     ]
    }
   ],
   "source": [
    "for z in range(2):\n",
    "    cls1=[];\n",
    "    for i in range(len(X)):\n",
    "            cls1.append(math.sqrt(((X[i][0]-cent[0][0])**2)+((X[i][1]-cent[0][1])**2)));\n",
    "    cls1\n",
    "\n",
    "\n",
    "    cls2=[];\n",
    "    for i in range(len(X)):\n",
    "            cls2.append(math.sqrt(((X[i][0]-cent[1][0])**2)+((X[i][1]-cent[1][1])**2)));\n",
    "    cls2\n",
    "\n",
    "    cls3=[];\n",
    "    for i in range(len(X)):\n",
    "            cls3.append(math.sqrt(((X[i][0]-cent[2][0])**2)+((X[i][1]-cent[2][1])**2)));\n",
    "    cls3\n",
    "    \n",
    "    cls=[];\n",
    "    for i in range(len(X)):\n",
    "        if (cls1[i]<cls2[i]) and (cls1[i]<cls3[i]):\n",
    "            cls.append(1);\n",
    "        elif (cls2[i]<cls1[i]) and (cls2[i]<cls3[i]):\n",
    "            cls.append(2);\n",
    "        else:\n",
    "            cls.append(3);\n",
    "    cls\n",
    "    \n",
    "    c1=0\n",
    "    c2=0\n",
    "    c3=0\n",
    "    c1x=0\n",
    "    c1y=0\n",
    "    c2x=0\n",
    "    c2y=0\n",
    "    c3x=0\n",
    "    c3y=0\n",
    "    for i in range(len(cls)):\n",
    "        if(cls[i]==1):\n",
    "            c1x+=X[i][0]\n",
    "            c1y+=X[i][1]\n",
    "            c1=c1+1\n",
    "        elif(cls[i]==2):\n",
    "            c2x+=X[i][0]\n",
    "            c2y+=X[i][1]\n",
    "            c2+=1\n",
    "        else:\n",
    "            c3x+=X[i][0]\n",
    "            c3y+=X[i][1]\n",
    "            c3+=1\n",
    "    #cent=[[0,0],[0,0],[0,0]]\n",
    "\n",
    "\n",
    "    cent[0][0]=c1x/c1\n",
    "    cent[0][1]=c1y/c1;\n",
    "\n",
    "    cent[1][0]=c2x/c2;\n",
    "    cent[1][1]=c2y/c2;\n",
    "\n",
    "    cent[2][0]=c3x/c3;\n",
    "    cent[2][1]=c3y/c3;\n",
    "\n",
    "    print(cent)\n",
    "\n"
   ]
  }
 ],
 "metadata": {
  "kernelspec": {
   "display_name": "Python 3",
   "language": "python",
   "name": "python3"
  },
  "language_info": {
   "codemirror_mode": {
    "name": "ipython",
    "version": 3
   },
   "file_extension": ".py",
   "mimetype": "text/x-python",
   "name": "python",
   "nbconvert_exporter": "python",
   "pygments_lexer": "ipython3",
   "version": "3.8.8"
  }
 },
 "nbformat": 4,
 "nbformat_minor": 5
}
