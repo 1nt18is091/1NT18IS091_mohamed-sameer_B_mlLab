{
 "cells": [
  {
   "cell_type": "code",
   "execution_count": 28,
   "metadata": {},
   "outputs": [
    {
     "data": {
      "text/plain": [
       "[1, 2, 3]"
      ]
     },
     "execution_count": 28,
     "metadata": {},
     "output_type": "execute_result"
    }
   ],
   "source": [
    "#List \n",
    "\n",
    "new_list=[1,2,3]\n",
    "new_list"
   ]
  },
  {
   "cell_type": "code",
   "execution_count": 29,
   "metadata": {},
   "outputs": [
    {
     "data": {
      "text/plain": [
       "3"
      ]
     },
     "execution_count": 29,
     "metadata": {},
     "output_type": "execute_result"
    }
   ],
   "source": [
    "#append\n",
    "new_list.append(4)\n",
    "\n",
    "#To access the items of specific index in list\n",
    "new_list[2]"
   ]
  },
  {
   "cell_type": "code",
   "execution_count": 24,
   "metadata": {},
   "outputs": [
    {
     "name": "stdout",
     "output_type": "stream",
     "text": [
      "0\n"
     ]
    }
   ],
   "source": [
    "#insert into the list\n",
    "new_list.insert(0,0)\n",
    "print(new_list[3])"
   ]
  },
  {
   "cell_type": "code",
   "execution_count": 19,
   "metadata": {},
   "outputs": [
    {
     "data": {
      "text/plain": [
       "[0, 1, 2, 3, 4, 6, 7, 8]"
      ]
     },
     "execution_count": 19,
     "metadata": {},
     "output_type": "execute_result"
    }
   ],
   "source": [
    "#extend the list\n",
    "extend_list=[6,7,8]\n",
    "new_list.extend(extend_list)\n",
    "new_list"
   ]
  },
  {
   "cell_type": "code",
   "execution_count": null,
   "metadata": {},
   "outputs": [],
   "source": [
    "#delete item in list"
   ]
  },
  {
   "cell_type": "code",
   "execution_count": 9,
   "metadata": {},
   "outputs": [
    {
     "data": {
      "text/plain": [
       "('mohamed', 'sameer')"
      ]
     },
     "execution_count": 9,
     "metadata": {},
     "output_type": "execute_result"
    }
   ],
   "source": [
    "#tupple\n",
    "\n",
    "new_tupple=(\"mohamed\",\"sameer\")\n",
    "new_tupple"
   ]
  },
  {
   "cell_type": "code",
   "execution_count": 59,
   "metadata": {},
   "outputs": [
    {
     "data": {
      "text/plain": [
       "{'sameer': 91, 'kaushal': '076'}"
      ]
     },
     "execution_count": 59,
     "metadata": {},
     "output_type": "execute_result"
    }
   ],
   "source": [
    "#dictionaries\n",
    "\n",
    "new_dict={\n",
    "    \"sameer\":\"091\",\n",
    "    \"kaushal\":\"076\"\n",
    "}\n",
    "new_dict"
   ]
  },
  {
   "cell_type": "code",
   "execution_count": 63,
   "metadata": {},
   "outputs": [
    {
     "ename": "SyntaxError",
     "evalue": "invalid syntax (<ipython-input-63-076ee433ae70>, line 1)",
     "output_type": "error",
     "traceback": [
      "\u001b[0;36m  File \u001b[0;32m\"<ipython-input-63-076ee433ae70>\"\u001b[0;36m, line \u001b[0;32m1\u001b[0m\n\u001b[0;31m    new_dict[\"sameer\"]++;\u001b[0m\n\u001b[0m                        ^\u001b[0m\n\u001b[0;31mSyntaxError\u001b[0m\u001b[0;31m:\u001b[0m invalid syntax\n"
     ]
    }
   ],
   "source": [
    "new_dict[\"sameer\"]"
   ]
  },
  {
   "cell_type": "code",
   "execution_count": 37,
   "metadata": {},
   "outputs": [
    {
     "name": "stdout",
     "output_type": "stream",
     "text": [
      "1.5\n"
     ]
    }
   ],
   "source": [
    "#Mean\n",
    "\n",
    "mea=[1,2,3];\n",
    "sum=0;\n",
    "for i in range(0,len(arr)):\n",
    "    sum=sum+arr[i];\n",
    "print(sum/(len(arr)+1))"
   ]
  },
  {
   "cell_type": "code",
   "execution_count": 54,
   "metadata": {},
   "outputs": [
    {
     "name": "stdout",
     "output_type": "stream",
     "text": [
      "Median is: 4.0\n"
     ]
    }
   ],
   "source": [
    "#Median\n",
    "\n",
    "med=[1,4,1,3,4,5,6,8];\n",
    "med.sort();\n",
    "size=len(med)\n",
    "if (len(med))%2 == 1:\n",
    "    sum=med[size//2]\n",
    "    print(\"Median is: \"+str(sum));\n",
    "else:\n",
    "    sum=(med[size//2]+med[(size//2)-1])/2;\n",
    "    print(\"Median is: \"+str(sum));"
   ]
  },
  {
   "cell_type": "code",
   "execution_count": 2,
   "metadata": {},
   "outputs": [
    {
     "data": {
      "text/plain": [
       "[1, 4, 1, 3, 4, 5, 6, 8]"
      ]
     },
     "execution_count": 2,
     "metadata": {},
     "output_type": "execute_result"
    }
   ],
   "source": [
    "#mode\n",
    "\n",
    "mod=[1,4,1,3,4,5,6,8];\n",
    "mod"
   ]
  },
  {
   "cell_type": "code",
   "execution_count": 3,
   "metadata": {},
   "outputs": [
    {
     "name": "stdout",
     "output_type": "stream",
     "text": [
      "{1: 2, 4: 2, 3: 1, 5: 1, 6: 1, 8: 1}\n",
      "1\n",
      "4\n"
     ]
    }
   ],
   "source": [
    "#mode \n",
    "\n",
    "dic={}\n",
    "\n",
    "for num in mod:\n",
    "    if num in dic:\n",
    "        dic[num] = dic[num]+1\n",
    "    else:\n",
    "        dic[num]=1\n",
    "print(dic)\n",
    "max_value=0;\n",
    "k=mod[0];\n",
    "for key, val in dic.items():\n",
    "    if max_value < val:\n",
    "        max_value=val;\n",
    "        k=key\n",
    "for key, val in dic.items():\n",
    "    if max_value == val:\n",
    "        print(key);"
   ]
  },
  {
   "cell_type": "code",
   "execution_count": 12,
   "metadata": {},
   "outputs": [
    {
     "name": "stdout",
     "output_type": "stream",
     "text": [
      "Variance: 5.0\n",
      "Standard Deviation: 2.23606797749979\n"
     ]
    }
   ],
   "source": [
    "#Standard Deviation & variance\n",
    "\n",
    "arr=[1,4,1,3,4,5,6,8];\n",
    "\n",
    "mean = sum(arr) / len(arr)\n",
    "\n",
    "sqrs = [((a - mean) ** 2) for a in arr]\n",
    "var = sum(sqrs) / len(sqrs)\n",
    "\n",
    "print(f\"Variance: {var}\")\n",
    "\n",
    "stddev = var ** 0.5\n",
    "\n",
    "print(f\"Standard Deviation: {stddev}\")"
   ]
  },
  {
   "cell_type": "code",
   "execution_count": 11,
   "metadata": {},
   "outputs": [
    {
     "name": "stdout",
     "output_type": "stream",
     "text": [
      "Normalised elements: [0.0, 0.42857142857142855, 0.0, 0.2857142857142857, 0.42857142857142855, 0.5714285714285714, 0.7142857142857143, 1.0]\n"
     ]
    }
   ],
   "source": [
    "#Min-max normalisation\n",
    "\n",
    "arr=[1,4,1,3,4,5,6,8];\n",
    "\n",
    "max_val = max(arr)\n",
    "min_val = min(arr)\n",
    "\n",
    "normalised_arr = [((n - min_val) / (max_val - min_val)) for n in arr]\n",
    "\n",
    "print(f\"Normalised elements: {normalised_arr}\")"
   ]
  },
  {
   "cell_type": "code",
   "execution_count": 13,
   "metadata": {},
   "outputs": [
    {
     "name": "stdout",
     "output_type": "stream",
     "text": [
      "Standardised elements: [-0.7888543819998317, 2.2111456180001685, -0.7888543819998317, 1.2111456180001683, 2.2111456180001685, 3.2111456180001685, 4.2111456180001685, 6.2111456180001685]\n"
     ]
    }
   ],
   "source": [
    "#Standardisation\n",
    "\n",
    "arr=[1,4,1,3,4,5,6,8];\n",
    "\n",
    "std_arr = [(n - (mean / stddev)) for n in arr]\n",
    "\n",
    "print(f\"Standardised elements: {std_arr}\")"
   ]
  }
 ],
 "metadata": {
  "kernelspec": {
   "display_name": "Python 3",
   "language": "python",
   "name": "python3"
  },
  "language_info": {
   "codemirror_mode": {
    "name": "ipython",
    "version": 3
   },
   "file_extension": ".py",
   "mimetype": "text/x-python",
   "name": "python",
   "nbconvert_exporter": "python",
   "pygments_lexer": "ipython3",
   "version": "3.8.3"
  }
 },
 "nbformat": 4,
 "nbformat_minor": 5
}
